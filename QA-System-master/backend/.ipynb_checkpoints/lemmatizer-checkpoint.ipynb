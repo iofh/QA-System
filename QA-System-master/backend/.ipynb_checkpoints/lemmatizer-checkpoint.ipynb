{
 "cells": [
  {
   "cell_type": "code",
   "execution_count": null,
   "metadata": {},
   "outputs": [],
   "source": [
    "\n",
    "def lemmatize(phrase):\n",
    "    \"\"\"Return lematized words\"\"\"\n",
    "    spa = spacy.load(\"en_core_web_sm\")\n",
    "    return \" \".join([word.lemma_ for word in spa(phrase)])\n",
    "\n",
    "def reading_csv(path_to_csv):\n",
    "    \"\"\"Return text column in csv\"\"\"\n",
    "    data = pd.read_csv(path_to_csv)\n",
    "    ctx_paragraph = []\n",
    "    for txt in data['text']:\n",
    "        if not pd.isna(txt):\n",
    "            ctx_paragraph.append(txt)\n",
    "    return ctx_paragraph\n",
    "\n",
    "def lemmatizer(paragraphs, domain_lemma_cache, domain_pickle)\n",
    "    lemma_cache = domain_lemma_cache\n",
    "    if not os.path.isfile(lemma_cache):\n",
    "        lemmas = [lemmatize(par) for par in tqdm(paragraphs)]\n",
    "        df = pd.DataFrame(data={'context': paragraphs, 'lemmas': lemmas})\n",
    "        df.to_feather(lemma_cache)\n",
    "        \n",
    "    if not os.path.isfile(VEC_PICKLE_LOC):\n",
    "        vectorizer = TfidfVectorizer(\n",
    "            stop_words='english', min_df=5, max_df=.5, ngram_range=(1, 3))\n",
    "        pickle.dump(vectorizer, open(VEC_PICKLE_LOC, \"wb\"))\n",
    "        \n",
    "    if not os.path.isfile(domain_pickle):\n",
    "        tfidf = vectorizer.fit_transform(lemmas)\n",
    "        pickle.dump(tfidf, open(domain_pickle, \"wb\"))\n",
    "        \n",
    "        \n",
    "domains_choices = {\n",
    "    'op':('/home/student/QA-System/backend/files/data/op/op.csv',\n",
    "          '/home/student/QA-System/backend/files/data/op/op.feather',\n",
    "          '/home/student/QA-System/backend/files/data/op/op_tfidf.pickle')\n",
    "}\n",
    "csvpath = '/home/student/QA-System/backend/files/data/auckland_uni/auckland.csv'\n",
    "paragraphs = reading_csv(csvpath)\n",
    "lemmatizer(paragraphs, '/home/student/QA-System/backend/files/data/auckland_uni/auckland.feather', '/home/student/QA-System/backend/files/data/auckland_uni/auckland_tfidf.pickle')"
   ]
  }
 ],
 "metadata": {
  "kernelspec": {
   "display_name": "Python 3",
   "language": "python",
   "name": "python3"
  },
  "language_info": {
   "codemirror_mode": {
    "name": "ipython",
    "version": 3
   },
   "file_extension": ".py",
   "mimetype": "text/x-python",
   "name": "python",
   "nbconvert_exporter": "python",
   "pygments_lexer": "ipython3",
   "version": "3.7.7"
  }
 },
 "nbformat": 4,
 "nbformat_minor": 4
}
